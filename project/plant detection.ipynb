{
 "cells": [
  {
   "cell_type": "code",
   "execution_count": 1,
   "id": "ebe69ece",
   "metadata": {},
   "outputs": [],
   "source": [
    "import numpy as np\n",
    "import cv2 as cv\n",
    "import os"
   ]
  },
  {
   "cell_type": "code",
   "execution_count": 2,
   "id": "f0283330",
   "metadata": {},
   "outputs": [],
   "source": [
    "in_path = \"inputs\"\n",
    "out_path = \"outputs\"\n",
    "count = 1\n",
    "\n",
    "fixed_size = tuple ((400,400))"
   ]
  },
  {
   "cell_type": "code",
   "execution_count": 3,
   "id": "a9812e92",
   "metadata": {},
   "outputs": [],
   "source": [
    "#inputs/1.jpg"
   ]
  },
  {
   "cell_type": "code",
   "execution_count": 4,
   "id": "ffc8dabe",
   "metadata": {},
   "outputs": [
    {
     "name": "stdout",
     "output_type": "stream",
     "text": [
      "image:  inputs/1.JPG\n",
      "image:  inputs/10.jpg\n",
      "image:  inputs/2.jpg\n",
      "image:  inputs/3.jpg\n",
      "image:  inputs/4.jpg\n",
      "image:  inputs/5.jpg\n",
      "image:  inputs/6.jpg\n",
      "image:  inputs/7.jpg\n",
      "image:  inputs/8.jpg\n",
      "image:  inputs/9.jpg\n"
     ]
    }
   ],
   "source": [
    "\n",
    "for image in os.listdir(in_path):\n",
    "    image = in_path + \"/\" + image\n",
    "    print(\"image: \", image)\n",
    "            \n",
    "    image  = cv.imread(image)\n",
    "            \n",
    "    image = cv.resize(image, fixed_size)\n",
    "            \n",
    "    hsv = cv.cvtColor(image, cv.COLOR_BGR2HSV) # Hue, Saturation and Value = Brightness\n",
    "    mask = cv.inRange(hsv, (36, 25, 25), (70, 255,255))\n",
    "            \n",
    "    ## slice the green\n",
    "    imask = mask>0\n",
    "\n",
    "    green = np.zeros_like(image, np.uint8)\n",
    "    green[imask] = image[imask]\n",
    "            \n",
    "            \n",
    "    #apply morpological operations (morphology)\n",
    "    kernal = np.ones((5 ,5), \"uint8\")\n",
    "    dilated=cv.dilate(green,None, iterations=2) #timage = red\n",
    "    eroded = cv.erode(dilated, None, iterations=2) #timage = red\n",
    "            \n",
    "    to_cont = cv.inRange(eroded, (6, 3, 3), (255, 255,255))\n",
    "            \n",
    "    (contours,hierarchy)=cv.findContours(to_cont, cv.RETR_TREE, cv.CHAIN_APPROX_SIMPLE)\n",
    "            \n",
    "    for pic, contour in enumerate(contours):\n",
    "        if len(contours) != 0:\n",
    "            area = cv.contourArea(contour)\n",
    "        \n",
    "            if(area>100):     \n",
    "                c = max(contours, key = cv.contourArea)\n",
    "                new=cv.contourArea(c)\n",
    "\n",
    "\n",
    "                x,y,w,h = cv.boundingRect(c)\n",
    "                image_cont = cv.rectangle(image,(x-5,y-5),(x+w+5,y+h+5),(0,255,150),3)\n",
    "                    \n",
    "                count = str(count)\n",
    "                cv.putText(image_cont,count,(50,400),cv.FONT_HERSHEY_SIMPLEX, 0.7, (255,0,0)) #(columns rows)\n",
    "                count = int(count)\n",
    "                    \n",
    "    cv.imwrite('outputs/ %d.jpg' %count, image_cont)\n",
    "    count = count + 1            \n"
   ]
  },
  {
   "cell_type": "code",
   "execution_count": null,
   "id": "a7b14e44",
   "metadata": {},
   "outputs": [],
   "source": []
  }
 ],
 "metadata": {
  "kernelspec": {
   "display_name": "Python 3",
   "language": "python",
   "name": "python3"
  },
  "language_info": {
   "codemirror_mode": {
    "name": "ipython",
    "version": 3
   },
   "file_extension": ".py",
   "mimetype": "text/x-python",
   "name": "python",
   "nbconvert_exporter": "python",
   "pygments_lexer": "ipython3",
   "version": "3.7.6"
  }
 },
 "nbformat": 4,
 "nbformat_minor": 5
}
